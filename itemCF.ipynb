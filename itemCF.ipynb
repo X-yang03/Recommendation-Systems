{
 "cells": [
  {
   "cell_type": "code",
   "execution_count": 4,
   "metadata": {},
   "outputs": [],
   "source": [
    "import numpy as np\n",
    "a = np.array([1, 2, 3])\n",
    "b = np.array([4, 5, 6])"
   ]
  },
  {
   "cell_type": "code",
   "execution_count": 9,
   "metadata": {},
   "outputs": [
    {
     "name": "stderr",
     "output_type": "stream",
     "text": [
      "100%|██████████| 507172/507172 [00:00<00:00, 633013.66it/s]\n"
     ]
    }
   ],
   "source": [
    "import numpy as np\n",
    "from tqdm import tqdm\n",
    "\n",
    "attribute_path = './data/itemAttribute.txt'\n",
    "data = {}\n",
    "with open(attribute_path, 'r') as f:\n",
    "    lines = f.readlines()\n",
    "    for line in tqdm(lines):\n",
    "        line = line.strip()  # 去除行尾的换行符\n",
    "        itemid, attribute_1, attribute_2 = line.split('|')  # 分割项目ID和属性\n",
    "        # 构建特征向量\n",
    "        feature_vector = np.array([0, 0])\n",
    "        if attribute_1 != 'None':\n",
    "            feature_vector[0] = int(attribute_1)\n",
    "        if attribute_2 != 'None':\n",
    "            feature_vector[1] = int(attribute_2)\n",
    "        data[itemid] = feature_vector\n",
    "lines = None"
   ]
  },
  {
   "cell_type": "code",
   "execution_count": 11,
   "metadata": {},
   "outputs": [
    {
     "name": "stderr",
     "output_type": "stream",
     "text": [
      "  0%|          | 0/507172 [00:00<?, ?it/s]"
     ]
    },
    {
     "name": "stderr",
     "output_type": "stream",
     "text": [
      "  0%|          | 11/507172 [00:26<337:19:32,  2.39s/it]\n"
     ]
    },
    {
     "ename": "KeyboardInterrupt",
     "evalue": "",
     "output_type": "error",
     "traceback": [
      "\u001b[1;31m---------------------------------------------------------------------------\u001b[0m",
      "\u001b[1;31mKeyboardInterrupt\u001b[0m                         Traceback (most recent call last)",
      "Cell \u001b[1;32mIn[11], line 11\u001b[0m\n\u001b[0;32m      9\u001b[0m norm2 \u001b[38;5;241m=\u001b[39m np\u001b[38;5;241m.\u001b[39mlinalg\u001b[38;5;241m.\u001b[39mnorm(data[itemid2])\n\u001b[0;32m     10\u001b[0m \u001b[38;5;28;01mif\u001b[39;00m norm1 \u001b[38;5;241m!=\u001b[39m \u001b[38;5;241m0\u001b[39m \u001b[38;5;129;01mand\u001b[39;00m norm2 \u001b[38;5;241m!=\u001b[39m \u001b[38;5;241m0\u001b[39m:\n\u001b[1;32m---> 11\u001b[0m     item_similarity[itemid1][itemid2] \u001b[38;5;241m=\u001b[39m \u001b[43mnp\u001b[49m\u001b[38;5;241;43m.\u001b[39;49m\u001b[43mdot\u001b[49m\u001b[43m(\u001b[49m\u001b[43mdata\u001b[49m\u001b[43m[\u001b[49m\u001b[43mitemid1\u001b[49m\u001b[43m]\u001b[49m\u001b[43m,\u001b[49m\u001b[43m \u001b[49m\u001b[43mdata\u001b[49m\u001b[43m[\u001b[49m\u001b[43mitemid2\u001b[49m\u001b[43m]\u001b[49m\u001b[43m)\u001b[49m \u001b[38;5;241m/\u001b[39m (norm1 \u001b[38;5;241m*\u001b[39m norm2)\n\u001b[0;32m     12\u001b[0m \u001b[38;5;28;01melse\u001b[39;00m:\n\u001b[0;32m     13\u001b[0m     item_similarity[itemid1][itemid2] \u001b[38;5;241m=\u001b[39m \u001b[38;5;241m0\u001b[39m\n",
      "File \u001b[1;32m<__array_function__ internals>:200\u001b[0m, in \u001b[0;36mdot\u001b[1;34m(*args, **kwargs)\u001b[0m\n",
      "\u001b[1;31mKeyboardInterrupt\u001b[0m: "
     ]
    }
   ],
   "source": [
    "item_similarity = {}\n",
    "for itemid1 in tqdm(data.keys()):\n",
    "    for itemid2 in data.keys():\n",
    "        if itemid1 >= itemid2:\n",
    "            continue\n",
    "        if itemid1 not in item_similarity:\n",
    "            item_similarity[itemid1] = {}\n",
    "        norm1 = np.linalg.norm(data[itemid1])\n",
    "        norm2 = np.linalg.norm(data[itemid2])\n",
    "        if norm1 != 0 and norm2 != 0:\n",
    "            item_similarity[itemid1][itemid2] = np.dot(data[itemid1], data[itemid2]) / (norm1 * norm2)\n",
    "        else:\n",
    "            item_similarity[itemid1][itemid2] = 0"
   ]
  },
  {
   "cell_type": "code",
   "execution_count": null,
   "metadata": {},
   "outputs": [],
   "source": []
  }
 ],
 "metadata": {
  "kernelspec": {
   "display_name": "Python 3",
   "language": "python",
   "name": "python3"
  },
  "language_info": {
   "codemirror_mode": {
    "name": "ipython",
    "version": 3
   },
   "file_extension": ".py",
   "mimetype": "text/x-python",
   "name": "python",
   "nbconvert_exporter": "python",
   "pygments_lexer": "ipython3",
   "version": "3.10.11"
  }
 },
 "nbformat": 4,
 "nbformat_minor": 2
}
